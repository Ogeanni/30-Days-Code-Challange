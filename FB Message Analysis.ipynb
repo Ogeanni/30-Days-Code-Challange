{
 "cells": [
  {
   "cell_type": "code",
   "execution_count": null,
   "id": "fc503b5b",
   "metadata": {},
   "outputs": [],
   "source": [
    "import pandas as pd\n",
    "import json\n",
    "import numpy as np"
   ]
  },
  {
   "cell_type": "code",
   "execution_count": null,
   "id": "a8f083a3",
   "metadata": {},
   "outputs": [],
   "source": [
    "path_to_file = \"C:/Users/OGE/Downloads/facebook-ogechiann397/messages/inbox/435254403266333/message_1.json\""
   ]
  },
  {
   "cell_type": "code",
   "execution_count": null,
   "id": "dc87eca9",
   "metadata": {},
   "outputs": [],
   "source": [
    "data = load_all_message(\"C:/Users/OGE/Downloads/facebook-ogechiann397/messages/inbox/435254403266333/message_1.json\")"
   ]
  },
  {
   "cell_type": "code",
   "execution_count": null,
   "id": "dfa3cb75",
   "metadata": {},
   "outputs": [],
   "source": [
    "with open(path_to_file) as file:\n",
    "    messages = json.load(file)"
   ]
  },
  {
   "cell_type": "code",
   "execution_count": null,
   "id": "84047209",
   "metadata": {},
   "outputs": [],
   "source": [
    "messages.keys()"
   ]
  },
  {
   "cell_type": "code",
   "execution_count": null,
   "id": "6d14fc4a",
   "metadata": {},
   "outputs": [],
   "source": [
    "messages[\"messages\"]"
   ]
  },
  {
   "cell_type": "code",
   "execution_count": null,
   "id": "d6174273",
   "metadata": {},
   "outputs": [],
   "source": [
    "df = pd.DataFrame(messages[\"messages\"])\n",
    "df.head()"
   ]
  },
  {
   "cell_type": "code",
   "execution_count": null,
   "id": "b7acec06",
   "metadata": {},
   "outputs": [],
   "source": [
    "df['Datetime'] = pd.to_datetime(df['timestamp_ms'], unit=\"ms\")"
   ]
  },
  {
   "cell_type": "code",
   "execution_count": null,
   "id": "985e8f2a",
   "metadata": {},
   "outputs": [],
   "source": [
    "def get_month(month):\n",
    "    return Datetime.month\n",
    "    \n",
    "def get_year(year):\n",
    "    return Datetime.year"
   ]
  },
  {
   "cell_type": "code",
   "execution_count": null,
   "id": "85cb5c10",
   "metadata": {},
   "outputs": [],
   "source": [
    "df[\"Year\"] = df[\"Datetime\"].apply(get_month)\n",
    "df[\"Month\"] = df[\"Datetime\"].apply(get_month_month)"
   ]
  },
  {
   "cell_type": "code",
   "execution_count": null,
   "id": "04ff1df4",
   "metadata": {},
   "outputs": [],
   "source": []
  }
 ],
 "metadata": {
  "kernelspec": {
   "display_name": "Python 3 (ipykernel)",
   "language": "python",
   "name": "python3"
  },
  "language_info": {
   "codemirror_mode": {
    "name": "ipython",
    "version": 3
   },
   "file_extension": ".py",
   "mimetype": "text/x-python",
   "name": "python",
   "nbconvert_exporter": "python",
   "pygments_lexer": "ipython3",
   "version": "3.9.13"
  }
 },
 "nbformat": 4,
 "nbformat_minor": 5
}
