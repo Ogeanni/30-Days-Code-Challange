{
 "cells": [
  {
   "cell_type": "code",
   "execution_count": null,
   "id": "fc503b5b",
   "metadata": {},
   "outputs": [],
   "source": [
    "import pandas as pd\n",
    "import json\n",
    "import numpy as np\n",
    "import os\n",
    "import operator  # to convert dictionary to list"
   ]
  },
  {
   "cell_type": "code",
   "execution_count": null,
   "id": "f74f58b4",
   "metadata": {},
   "outputs": [],
   "source": [
    "path_to_file = \"C:/Users/OGE/Downloads/facebook-ogechiann397/messages/inbox/435254403266333/message_1.json\""
   ]
  },
  {
   "cell_type": "code",
   "execution_count": null,
   "id": "dfa3cb75",
   "metadata": {},
   "outputs": [],
   "source": [
    "with open(path_to_file) as file:\n",
    "    messages = json.load(file)"
   ]
  },
  {
   "cell_type": "code",
   "execution_count": null,
   "id": "b7c5255b",
   "metadata": {},
   "outputs": [],
   "source": [
    "messages.keys()"
   ]
  },
  {
   "cell_type": "code",
   "execution_count": null,
   "id": "d4cfe5a5",
   "metadata": {},
   "outputs": [],
   "source": [
    "messages[\"messages\"]"
   ]
  },
  {
   "cell_type": "code",
   "execution_count": null,
   "id": "529ddc88",
   "metadata": {},
   "outputs": [],
   "source": [
    "df = pd.DataFrame(messages[\"messages\"])\n",
    "df.head()"
   ]
  },
  {
   "cell_type": "code",
   "execution_count": null,
   "id": "a4fc9c4e",
   "metadata": {},
   "outputs": [],
   "source": [
    "df['Date'] = pd.to_datetime(df['timestamp_ms'], unit=\"ms\")"
   ]
  },
  {
   "cell_type": "code",
   "execution_count": null,
   "id": "985e8f2a",
   "metadata": {},
   "outputs": [],
   "source": [
    "def get_month(date):\n",
    "    return date.month\n",
    "    \n",
    "def get_year(date):\n",
    "    return date.year"
   ]
  },
  {
   "cell_type": "code",
   "execution_count": null,
   "id": "e50e2eca",
   "metadata": {},
   "outputs": [],
   "source": [
    "df[\"Year\"] = df[\"Date\"].apply(get_year)\n",
    "df[\"Month\"] = df[\"Date\"].apply(get_month)"
   ]
  },
  {
   "cell_type": "code",
   "execution_count": null,
   "id": "174d7bc4",
   "metadata": {},
   "outputs": [],
   "source": [
    "rootdir = \"C:/Users/OGE/Downloads/facebook-ogechiann397/messages/inbox\"\n",
    "i = 0\n",
    "for root, dirs, files in os.walk(rootdir):\n",
    "    for name in files:\n",
    "        if name.endswith((\".json\")):\n",
    "            print(name)\n",
    "            full_path = os.path.join(root, name)\n",
    "            with open(full_path) as f:\n",
    "                data = json.load(f)\n",
    "                print(data)\n",
    "                if i == 0:\n",
    "                    df_temp = pd.json_normalize(data['messages'])\n",
    "                    i+= 1\n",
    "                else:\n",
    "                    data_df = pd.json_normalize(data['messages'])\n",
    "                    df_temp = pd.concat([df_temp, data_df], axis=0, ignore_index=True)\n",
    "                "
   ]
  },
  {
   "cell_type": "code",
   "execution_count": null,
   "id": "a7c1f038",
   "metadata": {},
   "outputs": [],
   "source": [
    "fb_df = df_temp[[\"sender_name\", \"timestamp_ms\", \"content\"]]"
   ]
  },
  {
   "cell_type": "code",
   "execution_count": null,
   "id": "5ba52942",
   "metadata": {},
   "outputs": [],
   "source": [
    "fb_df['Date'] = pd.to_datetime(fb_df['timestamp_ms'], unit=\"ms\")"
   ]
  },
  {
   "cell_type": "code",
   "execution_count": null,
   "id": "cdd4b4f8",
   "metadata": {},
   "outputs": [],
   "source": [
    "fb_df.head()"
   ]
  }
 ],
 "metadata": {
  "kernelspec": {
   "display_name": "Python 3 (ipykernel)",
   "language": "python",
   "name": "python3"
  },
  "language_info": {
   "codemirror_mode": {
    "name": "ipython",
    "version": 3
   },
   "file_extension": ".py",
   "mimetype": "text/x-python",
   "name": "python",
   "nbconvert_exporter": "python",
   "pygments_lexer": "ipython3",
   "version": "3.9.13"
  }
 },
 "nbformat": 4,
 "nbformat_minor": 5
}
