{
 "cells": [
  {
   "cell_type": "code",
   "execution_count": null,
   "id": "4512da48",
   "metadata": {},
   "outputs": [],
   "source": [
    "import pandas as pd\n",
    "import json\n",
    "import numpy as np\n",
    "import os\n",
    "import bar_chart_race as bcr"
   ]
  },
  {
   "cell_type": "code",
   "execution_count": null,
   "id": "36714402",
   "metadata": {},
   "outputs": [],
   "source": [
    "rootdir = \"C:/Users/OGE/Downloads/facebook-ogechiann397/messages/inbox\"\n",
    "i = 0\n",
    "for root, dirs, files in os.walk(rootdir):\n",
    "    #print(files)\n",
    "    for name in files:\n",
    "        #print(name)\n",
    "        if name.endswith((\".json\")):\n",
    "            #print(name)\n",
    "            full_path = os.path.join(root, name)\n",
    "            with open(full_path) as f:\n",
    "                data = json.load(f)\n",
    "                if len(data['messages'][0]['sender_name']) != 0:\n",
    "                    \n",
    "                    print(data['messages'][0]['sender_name'])\n",
    "                if i == 0:\n",
    "                    df_temp = pd.json_normalize(data['messages'])\n",
    "                    i+= 1\n",
    "                else:\n",
    "                    data_df = pd.json_normalize(data['messages'])\n",
    "                    df_temp = pd.concat([df_temp, data_df], axis=0, ignore_index=True)"
   ]
  },
  {
   "cell_type": "code",
   "execution_count": null,
   "id": "a7c1f038",
   "metadata": {},
   "outputs": [],
   "source": [
    "df_temp.head()"
   ]
  },
  {
   "cell_type": "code",
   "execution_count": null,
   "id": "82b10669",
   "metadata": {},
   "outputs": [],
   "source": [
    "FB_df = df_temp[['sender_name', 'timestamp_ms', 'content']]\n",
    "FB_df.head()"
   ]
  },
  {
   "cell_type": "code",
   "execution_count": null,
   "id": "5ba52942",
   "metadata": {},
   "outputs": [],
   "source": [
    "def clean_data(data):\n",
    "    data['datetime'] = pd.to_datetime(data['timestamp_ms'], unit=\"ms\")\n",
    "    data['year'] = data['datetime'].dt.year\n",
    "    data['month'] = data['datetime'].dt.month\n",
    "    data = data[~data['sender_name'].isin([''])]\n",
    "    data['content'] = data['content'].str.lower()\n",
    "    return data"
   ]
  },
  {
   "cell_type": "code",
   "execution_count": null,
   "id": "7d0af1c3",
   "metadata": {},
   "outputs": [],
   "source": [
    "data_df = clean_data(FB_df)"
   ]
  },
  {
   "cell_type": "code",
   "execution_count": null,
   "id": "ff59dc6d",
   "metadata": {},
   "outputs": [],
   "source": [
    "clean_df = data_df[['year', 'month', 'sender_name', 'content']]\n",
    "clean_df"
   ]
  },
  {
   "cell_type": "code",
   "execution_count": null,
   "id": "b71829f7",
   "metadata": {},
   "outputs": [],
   "source": [
    "# bcr.bar_chart_race(df = clean_df, \n",
    "#                    n_bars = 6, \n",
    "#                    sort='desc',\n",
    "#                    title='Premier League Clubs Points Since 1992')"
   ]
  },
  {
   "cell_type": "code",
   "execution_count": null,
   "id": "cd1c642e",
   "metadata": {},
   "outputs": [],
   "source": []
  }
 ],
 "metadata": {
  "kernelspec": {
   "display_name": "Python 3 (ipykernel)",
   "language": "python",
   "name": "python3"
  },
  "language_info": {
   "codemirror_mode": {
    "name": "ipython",
    "version": 3
   },
   "file_extension": ".py",
   "mimetype": "text/x-python",
   "name": "python",
   "nbconvert_exporter": "python",
   "pygments_lexer": "ipython3",
   "version": "3.9.13"
  }
 },
 "nbformat": 4,
 "nbformat_minor": 5
}
